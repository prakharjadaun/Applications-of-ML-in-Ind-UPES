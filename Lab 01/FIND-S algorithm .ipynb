{
 "cells": [
  {
   "cell_type": "markdown",
   "id": "1c4094f4",
   "metadata": {},
   "source": [
    "Implement and demonstrate the FIND-S algorithm for finding the most specific hypothesis based on a given set of training samples. Read the training data from a csv file"
   ]
  },
  {
   "cell_type": "code",
   "execution_count": 67,
   "id": "252b90c5",
   "metadata": {},
   "outputs": [],
   "source": [
    "import numpy as np\n",
    "import pandas as pd"
   ]
  },
  {
   "cell_type": "code",
   "execution_count": 68,
   "id": "a4f9776a",
   "metadata": {},
   "outputs": [
    {
     "data": {
      "text/html": [
       "<div>\n",
       "<style scoped>\n",
       "    .dataframe tbody tr th:only-of-type {\n",
       "        vertical-align: middle;\n",
       "    }\n",
       "\n",
       "    .dataframe tbody tr th {\n",
       "        vertical-align: top;\n",
       "    }\n",
       "\n",
       "    .dataframe thead th {\n",
       "        text-align: right;\n",
       "    }\n",
       "</style>\n",
       "<table border=\"1\" class=\"dataframe\">\n",
       "  <thead>\n",
       "    <tr style=\"text-align: right;\">\n",
       "      <th></th>\n",
       "      <th>COLOR</th>\n",
       "      <th>TOUGHNESS</th>\n",
       "      <th>FUNGUS</th>\n",
       "      <th>APPEARANCE</th>\n",
       "      <th>POISONOUS</th>\n",
       "    </tr>\n",
       "  </thead>\n",
       "  <tbody>\n",
       "    <tr>\n",
       "      <th>0</th>\n",
       "      <td>GREEN</td>\n",
       "      <td>HARD</td>\n",
       "      <td>NO</td>\n",
       "      <td>WRINKLED</td>\n",
       "      <td>YES</td>\n",
       "    </tr>\n",
       "    <tr>\n",
       "      <th>1</th>\n",
       "      <td>GREEN</td>\n",
       "      <td>HARD</td>\n",
       "      <td>YES</td>\n",
       "      <td>A</td>\n",
       "      <td>NO</td>\n",
       "    </tr>\n",
       "    <tr>\n",
       "      <th>2</th>\n",
       "      <td>BROWN</td>\n",
       "      <td>SOFT</td>\n",
       "      <td>NO</td>\n",
       "      <td>WRINKLED</td>\n",
       "      <td>NO</td>\n",
       "    </tr>\n",
       "    <tr>\n",
       "      <th>3</th>\n",
       "      <td>ORANGE</td>\n",
       "      <td>HARD</td>\n",
       "      <td>NO</td>\n",
       "      <td>WRINKLED</td>\n",
       "      <td>YES</td>\n",
       "    </tr>\n",
       "    <tr>\n",
       "      <th>4</th>\n",
       "      <td>GREEN</td>\n",
       "      <td>SOFT</td>\n",
       "      <td>YES</td>\n",
       "      <td>WRINKLED</td>\n",
       "      <td>YES</td>\n",
       "    </tr>\n",
       "    <tr>\n",
       "      <th>5</th>\n",
       "      <td>GREEN</td>\n",
       "      <td>HARD</td>\n",
       "      <td>YES</td>\n",
       "      <td>WRINKLED</td>\n",
       "      <td>YES</td>\n",
       "    </tr>\n",
       "    <tr>\n",
       "      <th>6</th>\n",
       "      <td>ORANGE</td>\n",
       "      <td>HARD</td>\n",
       "      <td>NO</td>\n",
       "      <td>WRINKLED</td>\n",
       "      <td>YES</td>\n",
       "    </tr>\n",
       "  </tbody>\n",
       "</table>\n",
       "</div>"
      ],
      "text/plain": [
       "    COLOR TOUGHNESS FUNGUS APPEARANCE POISONOUS\n",
       "0   GREEN      HARD     NO   WRINKLED       YES\n",
       "1   GREEN      HARD    YES          A        NO\n",
       "2   BROWN      SOFT     NO   WRINKLED        NO\n",
       "3  ORANGE      HARD     NO   WRINKLED       YES\n",
       "4   GREEN      SOFT    YES   WRINKLED       YES\n",
       "5   GREEN      HARD    YES   WRINKLED       YES\n",
       "6  ORANGE      HARD     NO   WRINKLED       YES"
      ]
     },
     "execution_count": 68,
     "metadata": {},
     "output_type": "execute_result"
    }
   ],
   "source": [
    "# reading the csv file\n",
    "df = pd.read_csv(r\"data.csv\")\n",
    "df"
   ]
  },
  {
   "cell_type": "code",
   "execution_count": 69,
   "id": "8df58240",
   "metadata": {},
   "outputs": [
    {
     "data": {
      "text/html": [
       "<div>\n",
       "<style scoped>\n",
       "    .dataframe tbody tr th:only-of-type {\n",
       "        vertical-align: middle;\n",
       "    }\n",
       "\n",
       "    .dataframe tbody tr th {\n",
       "        vertical-align: top;\n",
       "    }\n",
       "\n",
       "    .dataframe thead th {\n",
       "        text-align: right;\n",
       "    }\n",
       "</style>\n",
       "<table border=\"1\" class=\"dataframe\">\n",
       "  <thead>\n",
       "    <tr style=\"text-align: right;\">\n",
       "      <th></th>\n",
       "      <th>COLOR</th>\n",
       "      <th>TOUGHNESS</th>\n",
       "      <th>FUNGUS</th>\n",
       "      <th>APPEARANCE</th>\n",
       "      <th>POISONOUS</th>\n",
       "    </tr>\n",
       "  </thead>\n",
       "  <tbody>\n",
       "    <tr>\n",
       "      <th>0</th>\n",
       "      <td>GREEN</td>\n",
       "      <td>HARD</td>\n",
       "      <td>NO</td>\n",
       "      <td>WRINKLED</td>\n",
       "      <td>YES</td>\n",
       "    </tr>\n",
       "    <tr>\n",
       "      <th>3</th>\n",
       "      <td>ORANGE</td>\n",
       "      <td>HARD</td>\n",
       "      <td>NO</td>\n",
       "      <td>WRINKLED</td>\n",
       "      <td>YES</td>\n",
       "    </tr>\n",
       "    <tr>\n",
       "      <th>4</th>\n",
       "      <td>GREEN</td>\n",
       "      <td>SOFT</td>\n",
       "      <td>YES</td>\n",
       "      <td>WRINKLED</td>\n",
       "      <td>YES</td>\n",
       "    </tr>\n",
       "    <tr>\n",
       "      <th>5</th>\n",
       "      <td>GREEN</td>\n",
       "      <td>HARD</td>\n",
       "      <td>YES</td>\n",
       "      <td>WRINKLED</td>\n",
       "      <td>YES</td>\n",
       "    </tr>\n",
       "    <tr>\n",
       "      <th>6</th>\n",
       "      <td>ORANGE</td>\n",
       "      <td>HARD</td>\n",
       "      <td>NO</td>\n",
       "      <td>WRINKLED</td>\n",
       "      <td>YES</td>\n",
       "    </tr>\n",
       "  </tbody>\n",
       "</table>\n",
       "</div>"
      ],
      "text/plain": [
       "    COLOR TOUGHNESS FUNGUS APPEARANCE POISONOUS\n",
       "0   GREEN      HARD     NO   WRINKLED       YES\n",
       "3  ORANGE      HARD     NO   WRINKLED       YES\n",
       "4   GREEN      SOFT    YES   WRINKLED       YES\n",
       "5   GREEN      HARD    YES   WRINKLED       YES\n",
       "6  ORANGE      HARD     NO   WRINKLED       YES"
      ]
     },
     "execution_count": 69,
     "metadata": {},
     "output_type": "execute_result"
    }
   ],
   "source": [
    "df = df[df['POISONOUS']=='YES']\n",
    "df"
   ]
  },
  {
   "cell_type": "code",
   "execution_count": 70,
   "id": "a2043efb",
   "metadata": {},
   "outputs": [
    {
     "data": {
      "text/plain": [
       "(5, 5)"
      ]
     },
     "execution_count": 70,
     "metadata": {},
     "output_type": "execute_result"
    }
   ],
   "source": [
    "df.shape"
   ]
  },
  {
   "cell_type": "code",
   "execution_count": 71,
   "id": "c0dc370e",
   "metadata": {},
   "outputs": [
    {
     "data": {
      "text/plain": [
       "['$', '$', '$', '$']"
      ]
     },
     "execution_count": 71,
     "metadata": {},
     "output_type": "execute_result"
    }
   ],
   "source": [
    "# creating a list containing the hypotheses\n",
    "hypotheses = ['$']*(df.shape[1]-1)\n",
    "hypotheses"
   ]
  },
  {
   "cell_type": "code",
   "execution_count": 72,
   "id": "6df21f51",
   "metadata": {},
   "outputs": [
    {
     "data": {
      "text/plain": [
       "'WRINKLED'"
      ]
     },
     "execution_count": 72,
     "metadata": {},
     "output_type": "execute_result"
    }
   ],
   "source": [
    "df.iloc[0].array[3]"
   ]
  },
  {
   "cell_type": "code",
   "execution_count": 75,
   "id": "7235ffaf",
   "metadata": {},
   "outputs": [],
   "source": [
    "for i in range(df.shape[0]):\n",
    "    hypotheses = [df.iloc[i].array[j] if (hypotheses[j]=='$' or hypotheses[j]==df.iloc[i].array[j]) else '?' for j in range(len(hypotheses))]"
   ]
  },
  {
   "cell_type": "code",
   "execution_count": 76,
   "id": "fdc86fed",
   "metadata": {},
   "outputs": [
    {
     "data": {
      "text/plain": [
       "['?', '?', '?', 'WRINKLED']"
      ]
     },
     "execution_count": 76,
     "metadata": {},
     "output_type": "execute_result"
    }
   ],
   "source": [
    "hypotheses"
   ]
  }
 ],
 "metadata": {
  "kernelspec": {
   "display_name": "Python 3 (ipykernel)",
   "language": "python",
   "name": "python3"
  },
  "language_info": {
   "codemirror_mode": {
    "name": "ipython",
    "version": 3
   },
   "file_extension": ".py",
   "mimetype": "text/x-python",
   "name": "python",
   "nbconvert_exporter": "python",
   "pygments_lexer": "ipython3",
   "version": "3.9.7"
  }
 },
 "nbformat": 4,
 "nbformat_minor": 5
}
