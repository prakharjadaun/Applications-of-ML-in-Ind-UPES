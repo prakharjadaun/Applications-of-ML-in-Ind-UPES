{
 "cells": [
  {
   "cell_type": "code",
   "execution_count": 195,
   "metadata": {},
   "outputs": [],
   "source": [
    "import numpy as np\n",
    "import pandas as pd"
   ]
  },
  {
   "cell_type": "code",
   "execution_count": 196,
   "metadata": {},
   "outputs": [
    {
     "data": {
      "text/html": [
       "<div>\n",
       "<style scoped>\n",
       "    .dataframe tbody tr th:only-of-type {\n",
       "        vertical-align: middle;\n",
       "    }\n",
       "\n",
       "    .dataframe tbody tr th {\n",
       "        vertical-align: top;\n",
       "    }\n",
       "\n",
       "    .dataframe thead th {\n",
       "        text-align: right;\n",
       "    }\n",
       "</style>\n",
       "<table border=\"1\" class=\"dataframe\">\n",
       "  <thead>\n",
       "    <tr style=\"text-align: right;\">\n",
       "      <th></th>\n",
       "      <th>Sky</th>\n",
       "      <th>Temperature</th>\n",
       "      <th>Humid</th>\n",
       "      <th>Wind</th>\n",
       "      <th>water</th>\n",
       "      <th>Forest</th>\n",
       "      <th>Output</th>\n",
       "    </tr>\n",
       "  </thead>\n",
       "  <tbody>\n",
       "    <tr>\n",
       "      <th>0</th>\n",
       "      <td>sunny</td>\n",
       "      <td>Warm</td>\n",
       "      <td>normal</td>\n",
       "      <td>strong</td>\n",
       "      <td>warm</td>\n",
       "      <td>same</td>\n",
       "      <td>yes</td>\n",
       "    </tr>\n",
       "    <tr>\n",
       "      <th>1</th>\n",
       "      <td>sunny</td>\n",
       "      <td>Warm</td>\n",
       "      <td>high</td>\n",
       "      <td>strong</td>\n",
       "      <td>warm</td>\n",
       "      <td>same</td>\n",
       "      <td>yes</td>\n",
       "    </tr>\n",
       "    <tr>\n",
       "      <th>2</th>\n",
       "      <td>rainy</td>\n",
       "      <td>Cold</td>\n",
       "      <td>high</td>\n",
       "      <td>strong</td>\n",
       "      <td>warm</td>\n",
       "      <td>change</td>\n",
       "      <td>no</td>\n",
       "    </tr>\n",
       "    <tr>\n",
       "      <th>3</th>\n",
       "      <td>sunny</td>\n",
       "      <td>Warm</td>\n",
       "      <td>high</td>\n",
       "      <td>strong</td>\n",
       "      <td>cool</td>\n",
       "      <td>change</td>\n",
       "      <td>yes</td>\n",
       "    </tr>\n",
       "  </tbody>\n",
       "</table>\n",
       "</div>"
      ],
      "text/plain": [
       "     Sky Temperature   Humid    Wind water  Forest Output\n",
       "0  sunny        Warm  normal  strong  warm    same    yes\n",
       "1  sunny        Warm    high  strong  warm    same    yes\n",
       "2  rainy        Cold    high  strong  warm  change     no\n",
       "3  sunny        Warm    high  strong  cool  change    yes"
      ]
     },
     "execution_count": 196,
     "metadata": {},
     "output_type": "execute_result"
    }
   ],
   "source": [
    "df = pd.read_csv(r\"data.csv\")\n",
    "df.head()"
   ]
  },
  {
   "cell_type": "code",
   "execution_count": 197,
   "metadata": {},
   "outputs": [
    {
     "data": {
      "text/plain": [
       "['$', '$', '$', '$', '$', '$']"
      ]
     },
     "execution_count": 197,
     "metadata": {},
     "output_type": "execute_result"
    }
   ],
   "source": [
    "# initializing the specific hypothesis\n",
    "specificHypo = ['$']*(df.shape[1]-1)\n",
    "specificHypo"
   ]
  },
  {
   "cell_type": "code",
   "execution_count": 198,
   "metadata": {},
   "outputs": [
    {
     "data": {
      "text/plain": [
       "array([['?', '?', '?', '?', '?', '?'],\n",
       "       ['?', '?', '?', '?', '?', '?'],\n",
       "       ['?', '?', '?', '?', '?', '?'],\n",
       "       ['?', '?', '?', '?', '?', '?'],\n",
       "       ['?', '?', '?', '?', '?', '?'],\n",
       "       ['?', '?', '?', '?', '?', '?']], dtype='<U1')"
      ]
     },
     "execution_count": 198,
     "metadata": {},
     "output_type": "execute_result"
    }
   ],
   "source": [
    "# initializing the general hypothesis\n",
    "generalHypo = []\n",
    "temp = ([\"?\"]*(df.shape[1]-1))\n",
    "for i in range(df.shape[1]-1):\n",
    "    generalHypo.append(temp)\n",
    "generalHypo = np.array(generalHypo,dtype=str)\n",
    "generalHypo"
   ]
  },
  {
   "cell_type": "code",
   "execution_count": 199,
   "metadata": {},
   "outputs": [
    {
     "data": {
      "text/plain": [
       "'Warm'"
      ]
     },
     "execution_count": 199,
     "metadata": {},
     "output_type": "execute_result"
    }
   ],
   "source": [
    "df.iloc[0].array[1]"
   ]
  },
  {
   "cell_type": "code",
   "execution_count": 200,
   "metadata": {},
   "outputs": [
    {
     "name": "stdout",
     "output_type": "stream",
     "text": [
      "sunny  :  0\n",
      "Warm  :  1\n",
      "same  :  5\n"
     ]
    }
   ],
   "source": [
    "for i in range(df.shape[0]):\n",
    "    if df['Output'][i] == 'yes':\n",
    "        for j in range(len(specificHypo)):\n",
    "            if specificHypo[j] == '$':\n",
    "                specificHypo[j] = df.iloc[i][j]\n",
    "            elif df.iloc[i][j]!=specificHypo[j]:\n",
    "                specificHypo[j] = '?'\n",
    "    else:\n",
    "        for j in range(len(specificHypo)):\n",
    "            if (specificHypo[j] == '?') or (specificHypo[j] == df.iloc[i].array[j]):\n",
    "                continue\n",
    "            else:\n",
    "                print(specificHypo[j],\" : \",j)\n",
    "                generalHypo[j][j] = specificHypo[j]\n",
    "                j= j+1"
   ]
  },
  {
   "cell_type": "code",
   "execution_count": 201,
   "metadata": {},
   "outputs": [
    {
     "data": {
      "text/plain": [
       "'?'"
      ]
     },
     "execution_count": 201,
     "metadata": {},
     "output_type": "execute_result"
    }
   ],
   "source": [
    "generalHypo[0][1]"
   ]
  },
  {
   "cell_type": "code",
   "execution_count": 202,
   "metadata": {},
   "outputs": [
    {
     "data": {
      "text/plain": [
       "['sunny', 'Warm', '?', 'strong', '?', '?']"
      ]
     },
     "execution_count": 202,
     "metadata": {},
     "output_type": "execute_result"
    }
   ],
   "source": [
    "specificHypo"
   ]
  },
  {
   "cell_type": "code",
   "execution_count": 203,
   "metadata": {},
   "outputs": [
    {
     "data": {
      "text/plain": [
       "array([['s', '?', '?', '?', '?', '?'],\n",
       "       ['?', 'W', '?', '?', '?', '?'],\n",
       "       ['?', '?', '?', '?', '?', '?'],\n",
       "       ['?', '?', '?', '?', '?', '?'],\n",
       "       ['?', '?', '?', '?', '?', '?'],\n",
       "       ['?', '?', '?', '?', '?', 's']], dtype='<U1')"
      ]
     },
     "execution_count": 203,
     "metadata": {},
     "output_type": "execute_result"
    }
   ],
   "source": [
    "generalHypo"
   ]
  },
  {
   "cell_type": "code",
   "execution_count": null,
   "metadata": {},
   "outputs": [],
   "source": []
  },
  {
   "cell_type": "code",
   "execution_count": null,
   "metadata": {},
   "outputs": [],
   "source": []
  }
 ],
 "metadata": {
  "kernelspec": {
   "display_name": "Python 3",
   "language": "python",
   "name": "python3"
  },
  "language_info": {
   "codemirror_mode": {
    "name": "ipython",
    "version": 3
   },
   "file_extension": ".py",
   "mimetype": "text/x-python",
   "name": "python",
   "nbconvert_exporter": "python",
   "pygments_lexer": "ipython3",
   "version": "3.11.1"
  },
  "orig_nbformat": 4,
  "vscode": {
   "interpreter": {
    "hash": "5238573367df39f7286bb46f9ff5f08f63a01a80960060ce41e3c79b190280fa"
   }
  }
 },
 "nbformat": 4,
 "nbformat_minor": 2
}
