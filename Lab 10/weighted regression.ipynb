{
 "cells": [
  {
   "attachments": {},
   "cell_type": "markdown",
   "id": "a8560047",
   "metadata": {},
   "source": [
    "## **Implementation of Locally Weighted Regression Algorithm**"
   ]
  },
  {
   "cell_type": "code",
   "execution_count": 1,
   "id": "3e789b75-3f2b-4da4-8470-8b05b3c3ce8b",
   "metadata": {},
   "outputs": [],
   "source": [
    "import numpy as np\n",
    "from bokeh.plotting import figure, show, output_notebook \n",
    "from bokeh.layouts import gridplot\n",
    "from bokeh.io import push_notebook\n",
    "import matplotlib.pyplot as plt\n",
    "import warnings\n",
    "warnings.filterwarnings('ignore')"
   ]
  },
  {
   "cell_type": "code",
   "execution_count": 2,
   "id": "4d804c41",
   "metadata": {},
   "outputs": [],
   "source": [
    "def radial_kernel(x0, x, tau):\n",
    "    return np.exp(np.sum((x-x0)**2, axis = 1) / (-2*tau*tau))"
   ]
  },
  {
   "cell_type": "code",
   "execution_count": 3,
   "id": "68d14a1f-b6e6-4417-8a87-fffe4dce779d",
   "metadata": {},
   "outputs": [],
   "source": [
    "def local_regression(x0, x, y, tau):\n",
    "    x0 = np.r_[1, x0]\n",
    "    x = np.c_[np.ones(len(x)), x]\n",
    "    \n",
    "    xw = x.T*radial_kernel(x0, x, tau)\n",
    "    beta = np.linalg.pinv(xw@x)@xw@y\n",
    "    \n",
    "    return x0@beta"
   ]
  },
  {
   "cell_type": "code",
   "execution_count": null,
   "id": "87b69798-185a-4b77-9bb3-c23f83872f12",
   "metadata": {},
   "outputs": [],
   "source": []
  },
  {
   "cell_type": "code",
   "execution_count": 4,
   "id": "6434ab95-14bc-4709-bced-15c59a7bea8a",
   "metadata": {},
   "outputs": [
    {
     "name": "stdout",
     "output_type": "stream",
     "text": [
      "The Data Set ( 10 Samples) X :\n",
      " [-2.99399399 -2.98798799 -2.98198198 -2.97597598 -2.96996997 -2.96396396\n",
      " -2.95795796 -2.95195195 -2.94594595]\n",
      "The Fitting Curve Data Set (10 Samples) Y:\n",
      " [2.13582188 2.13156806 2.12730467 2.12303166 2.11874898 2.11445659\n",
      " 2.11015444 2.10584249 2.10152068]\n",
      "Normalised (10 Samples) X :\n",
      " [-2.91742734 -3.04373415 -2.88162658 -3.04618148 -2.77084876 -2.89719606\n",
      " -2.9492222  -2.94013328 -2.90877932]\n",
      " Xo Domain Space(10 Samples) :\n",
      " [-2.97993311 -2.95986622 -2.93979933 -2.91973244 -2.89966555 -2.87959866\n",
      " -2.85953177 -2.83946488 -2.81939799]\n"
     ]
    }
   ],
   "source": [
    "n = 1000\n",
    "X = np.linspace(-3, 3, num = n)\n",
    "print(\"The Data Set ( 10 Samples) X :\\n\",X[1:10])\n",
    "Y = np.log(np.abs(X ** 2 - 1) + .5)\n",
    "print(\"The Fitting Curve Data Set (10 Samples) Y:\\n\",Y[1:10])\n",
    "X += np.random.normal(scale=.1, size=n)\n",
    "print(\"Normalised (10 Samples) X :\\n\",X[1:10])\n",
    "\n",
    "domain = np.linspace(-3, 3, num=300)\n",
    "print(\" Xo Domain Space(10 Samples) :\\n\",domain[1:10])"
   ]
  },
  {
   "cell_type": "code",
   "execution_count": null,
   "id": "0f5b1c88",
   "metadata": {},
   "outputs": [],
   "source": []
  },
  {
   "cell_type": "code",
   "execution_count": 5,
   "id": "4ff634a6-43cc-40d6-af84-0b53d14ec184",
   "metadata": {},
   "outputs": [],
   "source": [
    "def plot_lwr(tau):\n",
    "    prediction = [local_regression(x0, X, Y, tau) for x0 in domain]\n",
    "    plot = figure(plot_width=400, plot_height=400)\n",
    "    plot.title.text='tau=%g' % tau\n",
    "    plot.scatter(X, Y, alpha=.3)\n",
    "    plot.line(domain, prediction, line_width=2, color='red')\n",
    "    return plot"
   ]
  },
  {
   "cell_type": "code",
   "execution_count": 6,
   "id": "7dfd0f82-94e3-48b9-8d4b-8e9893887b3c",
   "metadata": {},
   "outputs": [],
   "source": [
    "show(gridplot([[plot_lwr(10.), plot_lwr(1.)],\n",
    "              [plot_lwr(0.1), plot_lwr(0.01)]]))"
   ]
  },
  {
   "cell_type": "code",
   "execution_count": null,
   "id": "4ce1a601",
   "metadata": {},
   "outputs": [],
   "source": []
  }
 ],
 "metadata": {
  "kernelspec": {
   "display_name": "Python 3 (ipykernel)",
   "language": "python",
   "name": "python3"
  },
  "language_info": {
   "codemirror_mode": {
    "name": "ipython",
    "version": 3
   },
   "file_extension": ".py",
   "mimetype": "text/x-python",
   "name": "python",
   "nbconvert_exporter": "python",
   "pygments_lexer": "ipython3",
   "version": "3.9.16"
  }
 },
 "nbformat": 4,
 "nbformat_minor": 5
}
